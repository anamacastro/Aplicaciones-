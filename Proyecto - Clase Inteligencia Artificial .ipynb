{
 "cells": [
  {
   "cell_type": "markdown",
   "id": "62970340",
   "metadata": {},
   "source": [
    "# Aplicación de la inteligencia artificial para mejorar la asignación de recursos del sistema de salud colombiano con enfoque en población migrante\n",
    "\n",
    "### Ana María Castro - CC1070019132 - Programa en especialización en estadística"
   ]
  },
  {
   "cell_type": "markdown",
   "id": "2d73c275",
   "metadata": {},
   "source": [
    "**Objetivos**: \n",
    "1. Entender los patrones de atención de población migrante vs población local en 6 ciudades principales en Colombia que cuentan con un influjo de migración (principalmente venezolana) importante: Cúcuta, Barranquilla, Medellín, Cartagena, Bogotá, y Cali. \n",
    "2. Diagnosticar a partir de la información procesada previamente los volumenes de atenciones en salud, y segregarlos por información demográfica, tipo de atención y diagnóstico\n",
    "3. Generar un modelo que pronostique los flujos de atención en salud estimados, de forma que se pueda generar una recomendación en en términos de asignación de recursos en salud."
   ]
  },
  {
   "cell_type": "markdown",
   "id": "710c6dab",
   "metadata": {},
   "source": [
    "**Contexto del problema y datos disponibles**\n",
    "\n",
    "De 2017 a 2018 hubo un incremento de alrededor del 190% del flujo migratorio proveniente de venezuela. Cuando comenzó el proceso de regularización en Colombia para los migrantes venezolanos en mayo de 2021, la mayoría de los migrantes tuvieron la oportunidad de afiliarse oficialmente en el sistema de salud colombiano. Durante el último año, la proporción de migrantes afiliados al sistema aumentó 10 puntos porcentuales. \n",
    "\n",
    "Las atenciones, número de personas atendidas, afiliación, régimen, tipo de atención, diagnóstico, lugar y fecha de la atención están disponibles en el Sistema de Información de Prestaciones de Salud (RIPS), cuyos datos son asequibles para personas con un usuario asignado por el Ministerio de Salud y Protección Social (cuento con acceso debido a mi trabajo). \n",
    "\n",
    "\n",
    "\n",
    "\n"
   ]
  }
 ],
 "metadata": {
  "kernelspec": {
   "display_name": "Python 3 (ipykernel)",
   "language": "python",
   "name": "python3"
  },
  "language_info": {
   "codemirror_mode": {
    "name": "ipython",
    "version": 3
   },
   "file_extension": ".py",
   "mimetype": "text/x-python",
   "name": "python",
   "nbconvert_exporter": "python",
   "pygments_lexer": "ipython3",
   "version": "3.9.13"
  }
 },
 "nbformat": 4,
 "nbformat_minor": 5
}
